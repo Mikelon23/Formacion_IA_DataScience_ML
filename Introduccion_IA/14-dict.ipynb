{
 "cells": [
  {
   "cell_type": "markdown",
   "id": "2a564086",
   "metadata": {},
   "source": [
    "##### dict"
   ]
  },
  {
   "cell_type": "code",
   "execution_count": 1,
   "id": "1b076092",
   "metadata": {},
   "outputs": [
    {
     "name": "stdout",
     "output_type": "stream",
     "text": [
      "{'nombre': 'Miguel', 'apellido': 'Tierra', 'edad': 25, 'rol': 'Student'}\n"
     ]
    }
   ],
   "source": [
    "mi_diccionario = {\n",
    "    \"nombre\": \"Miguel\",\n",
    "    \"apellido\": \"Tierra\",\n",
    "    \"edad\": 25,\n",
    "    \"rol\": \"Student\"\n",
    "}\n",
    "print(mi_diccionario)"
   ]
  },
  {
   "cell_type": "markdown",
   "id": "55f7fbc9",
   "metadata": {},
   "source": [
    "##### Acceder a valores"
   ]
  },
  {
   "cell_type": "code",
   "execution_count": 2,
   "id": "82068a52",
   "metadata": {},
   "outputs": [
    {
     "name": "stdout",
     "output_type": "stream",
     "text": [
      "Mi nombres es Miguel\n"
     ]
    }
   ],
   "source": [
    "mi_diccionario = {\n",
    "    \"nombre\": \"Miguel\",\n",
    "    \"edad\": 25,\n",
    "}\n",
    "\n",
    "mi_nombre = mi_diccionario[\"nombre\"]\n",
    "print(f\"Mi nombres es {mi_nombre}\")"
   ]
  },
  {
   "cell_type": "markdown",
   "id": "69be1d14",
   "metadata": {},
   "source": [
    "##### Modificar valores"
   ]
  },
  {
   "cell_type": "code",
   "execution_count": 3,
   "id": "75806e47",
   "metadata": {},
   "outputs": [
    {
     "name": "stdout",
     "output_type": "stream",
     "text": [
      "{'nombre': 'Mike', 'edad': 25}\n"
     ]
    }
   ],
   "source": [
    "mi_diccionario = {\n",
    "    \"nombre\": \"Miguel\",\n",
    "    \"edad\": 25,\n",
    "}\n",
    "mi_diccionario[\"nombre\"] = \"Mike\"\n",
    "print(mi_diccionario)"
   ]
  },
  {
   "cell_type": "markdown",
   "id": "38b9df50",
   "metadata": {},
   "source": [
    "##### Agregar valores"
   ]
  },
  {
   "cell_type": "code",
   "execution_count": 4,
   "id": "a3bd24ce",
   "metadata": {},
   "outputs": [
    {
     "name": "stdout",
     "output_type": "stream",
     "text": [
      "{'nombre': 'Miguel', 'edad': 25, 'conocimientos': 'TI'}\n"
     ]
    }
   ],
   "source": [
    "mi_diccionario = {\n",
    "    \"nombre\": \"Miguel\",\n",
    "    \"edad\": 25,\n",
    "}\n",
    "mi_diccionario[\"conocimientos\"] = \"TI\"\n",
    "print(mi_diccionario)"
   ]
  },
  {
   "cell_type": "markdown",
   "id": "de426570",
   "metadata": {},
   "source": [
    "##### Eliminar propiedad y valor"
   ]
  },
  {
   "cell_type": "code",
   "execution_count": 5,
   "id": "8fecf87e",
   "metadata": {},
   "outputs": [
    {
     "name": "stdout",
     "output_type": "stream",
     "text": [
      "{'nombre': 'Miguel', 'edad': 25}\n"
     ]
    }
   ],
   "source": [
    "mi_diccionario = {\n",
    "    \"nombre\": \"Miguel\",\n",
    "    \"edad\": 25,\n",
    "    \"rol\": \"Student\"\n",
    "}\n",
    "del mi_diccionario[\"rol\"]\n",
    "print(mi_diccionario)"
   ]
  }
 ],
 "metadata": {
  "kernelspec": {
   "display_name": ".venv (3.13.0)",
   "language": "python",
   "name": "python3"
  },
  "language_info": {
   "codemirror_mode": {
    "name": "ipython",
    "version": 3
   },
   "file_extension": ".py",
   "mimetype": "text/x-python",
   "name": "python",
   "nbconvert_exporter": "python",
   "pygments_lexer": "ipython3",
   "version": "3.13.0"
  }
 },
 "nbformat": 4,
 "nbformat_minor": 5
}
