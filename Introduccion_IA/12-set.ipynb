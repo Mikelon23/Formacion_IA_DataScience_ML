{
 "cells": [
  {
   "cell_type": "markdown",
   "id": "9208e801",
   "metadata": {},
   "source": [
    "##### Set"
   ]
  },
  {
   "cell_type": "code",
   "execution_count": null,
   "id": "34ef9380",
   "metadata": {},
   "outputs": [],
   "source": [
    "val_unico = {1,\"r\"}"
   ]
  },
  {
   "cell_type": "markdown",
   "id": "0c295925",
   "metadata": {},
   "source": [
    "##### Accesores"
   ]
  },
  {
   "cell_type": "code",
   "execution_count": null,
   "id": "94d83410",
   "metadata": {},
   "outputs": [
    {
     "name": "stdout",
     "output_type": "stream",
     "text": [
      "r\n"
     ]
    }
   ],
   "source": [
    "val_unico = {1,\"r\"}\n",
    "lista_val_unico = list(val_unico)\n",
    "print(lista_val_unico[1])"
   ]
  },
  {
   "cell_type": "markdown",
   "id": "4d9d2c38",
   "metadata": {},
   "source": [
    "##### Agregar y remover"
   ]
  },
  {
   "cell_type": "code",
   "execution_count": null,
   "id": "5d4887cc",
   "metadata": {},
   "outputs": [
    {
     "name": "stdout",
     "output_type": "stream",
     "text": [
      "{1, 2, 'r'}\n",
      "---\n",
      "{2, 'r'}\n"
     ]
    }
   ],
   "source": [
    "valores_unicos = {1,\"r\"}\n",
    "valores_unicos.add(2)\n",
    "print(valores_unicos)\n",
    "print(\"---\")\n",
    "valores_unicos.discard(1) # Si no encuentra el valor no hay error.\n",
    "print(valores_unicos)"
   ]
  }
 ],
 "metadata": {
  "kernelspec": {
   "display_name": ".venv (3.13.0)",
   "language": "python",
   "name": "python3"
  },
  "language_info": {
   "codemirror_mode": {
    "name": "ipython",
    "version": 3
   },
   "file_extension": ".py",
   "mimetype": "text/x-python",
   "name": "python",
   "nbconvert_exporter": "python",
   "pygments_lexer": "ipython3",
   "version": "3.13.0"
  }
 },
 "nbformat": 4,
 "nbformat_minor": 5
}
