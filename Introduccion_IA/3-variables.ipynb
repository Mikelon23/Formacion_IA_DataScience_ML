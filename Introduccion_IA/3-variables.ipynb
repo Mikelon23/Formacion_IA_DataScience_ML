{
 "cells": [
  {
   "cell_type": "markdown",
   "id": "935445a5",
   "metadata": {},
   "source": [
    "##### Crear asignando valor"
   ]
  },
  {
   "cell_type": "code",
   "execution_count": 3,
   "id": "016e4637",
   "metadata": {},
   "outputs": [
    {
     "name": "stdout",
     "output_type": "stream",
     "text": [
      "miguel\n"
     ]
    }
   ],
   "source": [
    "mi_name = \"miguel\"\n",
    "print(mi_name)"
   ]
  },
  {
   "cell_type": "markdown",
   "id": "8f0344c2",
   "metadata": {},
   "source": [
    "##### Reasignar"
   ]
  },
  {
   "cell_type": "code",
   "execution_count": 4,
   "id": "ba48ce30",
   "metadata": {},
   "outputs": [
    {
     "name": "stdout",
     "output_type": "stream",
     "text": [
      "25\n",
      "veinticinco\n"
     ]
    }
   ],
   "source": [
    "mi_edad_en_2025 = 20           # De aportes\n",
    "mi_edad_en_2025 = 25    \n",
    "print(mi_edad_en_2025)\n",
    "\n",
    "mi_edad_en_2025 = \"veinticinco\"\n",
    "print(mi_edad_en_2025)"
   ]
  }
 ],
 "metadata": {
  "kernelspec": {
   "display_name": ".venv (3.13.0)",
   "language": "python",
   "name": "python3"
  },
  "language_info": {
   "codemirror_mode": {
    "name": "ipython",
    "version": 3
   },
   "file_extension": ".py",
   "mimetype": "text/x-python",
   "name": "python",
   "nbconvert_exporter": "python",
   "pygments_lexer": "ipython3",
   "version": "3.13.0"
  }
 },
 "nbformat": 4,
 "nbformat_minor": 5
}
