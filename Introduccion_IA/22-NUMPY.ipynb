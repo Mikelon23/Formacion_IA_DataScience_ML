{
 "cells": [
  {
   "cell_type": "markdown",
   "id": "abb59962",
   "metadata": {},
   "source": [
    "# https://numpy.org/doc/"
   ]
  },
  {
   "cell_type": "markdown",
   "id": "a0387cf8",
   "metadata": {},
   "source": [
    "## NUMPY\n",
    "\n",
    "#### NumPy es una biblioteca de Python utilizada para trabajar con arrays, álgebra lineal, transformada de Fourier y matrices. NumPy significa Numerical Python y es un proyecto de código abierto. El objeto array en NumPy se llama ndarray, y ofrece muchas funciones de soporte que hacen que trabajar con él sea muy sencillo.Los arrays se utilizan con mucha frecuencia en ciencia de datos, donde la velocidad y el uso eficiente de recursos son fundamentales."
   ]
  },
  {
   "cell_type": "markdown",
   "id": "6947f523",
   "metadata": {},
   "source": [
    "### NUMPY Arrays\n",
    "\n",
    "#### Estructura de datos optimizada para cálculos numéricos, similar a las listas pero con mayor eficiencia.\n",
    "\n",
    "- Almacena elementos del mismo tipo de dato\n",
    "\n",
    "- Soporta operaciones en una y múltiples dimensiones. Procesamiento eficiente de arrays multidimensionales\n",
    "\n",
    "Ejemplos:\n",
    "\n",
    "1D → [1,2,3] **ARRAY**\n",
    "\n",
    "2D → [[1,2,3],[4,5,6]] **MATRIZ**\n",
    "\n",
    "3D → un conjunto de matrices, etc. **TENSOR**\n",
    "\n",
    "- Permite operaciones **matemáticas vectorizadas**\n",
    "\n",
    "- Procesamiento simultáneo de todos los elementos\n",
    "\n",
    "- Base fundamental de librerías como **Pandas y Scikit-learn**\n",
    "\n"
   ]
  },
  {
   "cell_type": "markdown",
   "id": "3528e09f",
   "metadata": {},
   "source": [
    "#### Creamos un Numpy Array a partir de una lista"
   ]
  },
  {
   "cell_type": "code",
   "execution_count": null,
   "id": "7a83b1cd",
   "metadata": {},
   "outputs": [],
   "source": [
    "import numpy as np\n",
    "a=[10,20,30,40,50]\n",
    "x=np.array(a)\n",
    "type(x)"
   ]
  },
  {
   "cell_type": "markdown",
   "id": "d86e1b46",
   "metadata": {},
   "source": [
    "#### Encontrar las dimensiones del Array (una dimensión en la que viven n elementos)"
   ]
  },
  {
   "cell_type": "code",
   "execution_count": null,
   "id": "51138ddc",
   "metadata": {},
   "outputs": [],
   "source": [
    "x.shape     #(5,) SON 5 ELEMENTOS EN UNA DIMENSION. Es distinto al significado en geometría o física"
   ]
  },
  {
   "cell_type": "markdown",
   "id": "f0ced6a5",
   "metadata": {},
   "source": [
    "#### Encontrar los tipos de elementos del array"
   ]
  },
  {
   "cell_type": "code",
   "execution_count": 4,
   "id": "47742c8b",
   "metadata": {},
   "outputs": [
    {
     "data": {
      "text/plain": [
       "dtype('int64')"
      ]
     },
     "execution_count": 4,
     "metadata": {},
     "output_type": "execute_result"
    }
   ],
   "source": [
    "x.dtype"
   ]
  },
  {
   "cell_type": "markdown",
   "id": "ff0aee91",
   "metadata": {},
   "source": [
    "#### Encontrar la media de los valores del array"
   ]
  },
  {
   "cell_type": "code",
   "execution_count": 5,
   "id": "830c8ea3",
   "metadata": {},
   "outputs": [
    {
     "data": {
      "text/plain": [
       "np.float64(30.0)"
      ]
     },
     "execution_count": 5,
     "metadata": {},
     "output_type": "execute_result"
    }
   ],
   "source": [
    "x.mean()"
   ]
  },
  {
   "cell_type": "markdown",
   "id": "213b363f",
   "metadata": {},
   "source": [
    "#### Product **Element Wise** (Producto elemento a elemento)\n"
   ]
  },
  {
   "cell_type": "code",
   "execution_count": null,
   "id": "9e6250bb",
   "metadata": {},
   "outputs": [],
   "source": [
    "np.array([1,-1])*np.array([1,1])"
   ]
  },
  {
   "cell_type": "markdown",
   "id": "6b0cbfb3",
   "metadata": {},
   "source": [
    "#### **Dot Product** (Producto punto)"
   ]
  },
  {
   "cell_type": "code",
   "execution_count": null,
   "id": "d52a0c07",
   "metadata": {},
   "outputs": [],
   "source": [
    "np.dot(np.array([1,-5]),np.array([1,-7]))   # 1*1 + (-5)*(-7)=36"
   ]
  }
 ],
 "metadata": {
  "kernelspec": {
   "display_name": "Python 3",
   "language": "python",
   "name": "python3"
  },
  "language_info": {
   "codemirror_mode": {
    "name": "ipython",
    "version": 3
   },
   "file_extension": ".py",
   "mimetype": "text/x-python",
   "name": "python",
   "nbconvert_exporter": "python",
   "pygments_lexer": "ipython3",
   "version": "3.9.10"
  }
 },
 "nbformat": 4,
 "nbformat_minor": 5
}
