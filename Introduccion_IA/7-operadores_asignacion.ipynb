{
 "cells": [
  {
   "cell_type": "code",
   "execution_count": 1,
   "id": "14d47a29",
   "metadata": {},
   "outputs": [
    {
     "name": "stdout",
     "output_type": "stream",
     "text": [
      "23\n",
      "\t\n",
      "21\n",
      "\t\n",
      "84\n",
      "\t\n",
      "28\n",
      "\t\n",
      "9.333333333333334\n",
      "\t\n"
     ]
    }
   ],
   "source": [
    "edad = 19\n",
    "edad += 4\n",
    "print(edad)\n",
    "print(\"\\t\")\n",
    "edad -= 2\n",
    "print(edad)\n",
    "print(\"\\t\")\n",
    "edad *= 4\n",
    "print(edad)\n",
    "print(\"\\t\")\n",
    "edad //= 3\n",
    "print(edad)\n",
    "print(\"\\t\")\n",
    "edad /= 3\n",
    "print(edad)\n",
    "print(\"\\t\")"
   ]
  }
 ],
 "metadata": {
  "kernelspec": {
   "display_name": ".venv (3.13.0)",
   "language": "python",
   "name": "python3"
  },
  "language_info": {
   "codemirror_mode": {
    "name": "ipython",
    "version": 3
   },
   "file_extension": ".py",
   "mimetype": "text/x-python",
   "name": "python",
   "nbconvert_exporter": "python",
   "pygments_lexer": "ipython3",
   "version": "3.13.0"
  }
 },
 "nbformat": 4,
 "nbformat_minor": 5
}
