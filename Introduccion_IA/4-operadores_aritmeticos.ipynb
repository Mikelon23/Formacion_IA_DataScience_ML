{
 "cells": [
  {
   "cell_type": "markdown",
   "id": "193270eb",
   "metadata": {},
   "source": [
    "##### Suma"
   ]
  },
  {
   "cell_type": "code",
   "execution_count": 5,
   "id": "d284fde2",
   "metadata": {},
   "outputs": [
    {
     "name": "stdout",
     "output_type": "stream",
     "text": [
      "15.0\n"
     ]
    }
   ],
   "source": [
    "sumar = 2.0 + 5\n",
    "seguir_sumando = sumar + 8\n",
    "print(seguir_sumando)"
   ]
  },
  {
   "cell_type": "markdown",
   "id": "cee887bb",
   "metadata": {},
   "source": [
    "##### Resta"
   ]
  },
  {
   "cell_type": "code",
   "execution_count": 6,
   "id": "4c02c6f6",
   "metadata": {},
   "outputs": [
    {
     "name": "stdout",
     "output_type": "stream",
     "text": [
      "100\n"
     ]
    }
   ],
   "source": [
    "restar = 120 - 0\n",
    "seguir_restando = restar - 20\n",
    "print(seguir_restando)"
   ]
  },
  {
   "cell_type": "markdown",
   "id": "67f9f7dc",
   "metadata": {},
   "source": [
    "##### Multiplicación"
   ]
  },
  {
   "cell_type": "code",
   "execution_count": 7,
   "id": "7f561221",
   "metadata": {},
   "outputs": [
    {
     "name": "stdout",
     "output_type": "stream",
     "text": [
      "13.5\n"
     ]
    }
   ],
   "source": [
    "multi = 3 * 4.5\n",
    "print(multi)"
   ]
  },
  {
   "cell_type": "markdown",
   "id": "b4f0f3bc",
   "metadata": {},
   "source": [
    "##### Exponenciación"
   ]
  },
  {
   "cell_type": "code",
   "execution_count": 9,
   "id": "a4b05e3e",
   "metadata": {},
   "outputs": [
    {
     "name": "stdout",
     "output_type": "stream",
     "text": [
      "8\n"
     ]
    }
   ],
   "source": [
    "print(2**3)"
   ]
  },
  {
   "cell_type": "markdown",
   "id": "104a4a65",
   "metadata": {},
   "source": [
    "##### División"
   ]
  },
  {
   "cell_type": "code",
   "execution_count": 12,
   "id": "78846448",
   "metadata": {},
   "outputs": [
    {
     "name": "stdout",
     "output_type": "stream",
     "text": [
      "16.5\n"
     ]
    }
   ],
   "source": [
    "print(33/2)"
   ]
  },
  {
   "cell_type": "markdown",
   "id": "a213e3df",
   "metadata": {},
   "source": [
    "##### División entera"
   ]
  },
  {
   "cell_type": "code",
   "execution_count": 13,
   "id": "dc6094d5",
   "metadata": {},
   "outputs": [
    {
     "name": "stdout",
     "output_type": "stream",
     "text": [
      "16\n"
     ]
    }
   ],
   "source": [
    "print(33//2)"
   ]
  },
  {
   "cell_type": "markdown",
   "id": "13c3f099",
   "metadata": {},
   "source": [
    "##### Módulo"
   ]
  },
  {
   "cell_type": "code",
   "execution_count": null,
   "id": "1c741487",
   "metadata": {},
   "outputs": [
    {
     "name": "stdout",
     "output_type": "stream",
     "text": [
      "3\n"
     ]
    }
   ],
   "source": [
    "print(45%6)"
   ]
  }
 ],
 "metadata": {
  "kernelspec": {
   "display_name": "Python 3",
   "language": "python",
   "name": "python3"
  },
  "language_info": {
   "codemirror_mode": {
    "name": "ipython",
    "version": 3
   },
   "file_extension": ".py",
   "mimetype": "text/x-python",
   "name": "python",
   "nbconvert_exporter": "python",
   "pygments_lexer": "ipython3",
   "version": "3.10.12"
  }
 },
 "nbformat": 4,
 "nbformat_minor": 5
}
