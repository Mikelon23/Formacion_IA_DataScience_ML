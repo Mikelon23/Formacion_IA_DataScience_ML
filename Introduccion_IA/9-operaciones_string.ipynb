{
 "cells": [
  {
   "cell_type": "markdown",
   "id": "0ab41681",
   "metadata": {},
   "source": [
    "##### Interpolación (variables y strings)"
   ]
  },
  {
   "cell_type": "code",
   "execution_count": 1,
   "id": "c1097920",
   "metadata": {},
   "outputs": [
    {
     "name": "stdout",
     "output_type": "stream",
     "text": [
      "Mi nombre es Migue y mi apellido es Tierra\n"
     ]
    }
   ],
   "source": [
    "nombre = \"Migue\"\n",
    "apellido = 'Tierra'\n",
    "\n",
    "print(f\"Mi nombre es {nombre} y mi apellido es {apellido}\")"
   ]
  },
  {
   "cell_type": "markdown",
   "id": "80b60437",
   "metadata": {},
   "source": [
    "##### Slicing (rebanar)"
   ]
  },
  {
   "cell_type": "code",
   "execution_count": 2,
   "id": "374f8872",
   "metadata": {},
   "outputs": [
    {
     "name": "stdout",
     "output_type": "stream",
     "text": [
      "i\n",
      "r\n",
      "ike\n"
     ]
    }
   ],
   "source": [
    "nombre = \"Mike\"\n",
    "apellido = 'Tierra'\n",
    "print(nombre[1])\n",
    "print(apellido[-3])\n",
    "print(nombre[1:4])"
   ]
  },
  {
   "cell_type": "markdown",
   "id": "75001e2d",
   "metadata": {},
   "source": [
    "##### len (cantidad de caracteres)"
   ]
  },
  {
   "cell_type": "code",
   "execution_count": 3,
   "id": "a05cf954",
   "metadata": {},
   "outputs": [
    {
     "name": "stdout",
     "output_type": "stream",
     "text": [
      "16\n"
     ]
    }
   ],
   "source": [
    "str = \"Habia una vez...\"\n",
    "print(len(str))"
   ]
  },
  {
   "cell_type": "markdown",
   "id": "1f3820f6",
   "metadata": {},
   "source": [
    "##### upper y lower"
   ]
  },
  {
   "cell_type": "code",
   "execution_count": 4,
   "id": "b368a47d",
   "metadata": {},
   "outputs": [
    {
     "name": "stdout",
     "output_type": "stream",
     "text": [
      "LOS DIAS DE LA SEMANA\n",
      "los dias de la semana\n"
     ]
    }
   ],
   "source": [
    "str = \"Los Dias de la Semana\"\n",
    "print(str.upper())\n",
    "print(str.lower())  "
   ]
  },
  {
   "cell_type": "markdown",
   "id": "2966e30f",
   "metadata": {},
   "source": [
    "##### replace"
   ]
  },
  {
   "cell_type": "code",
   "execution_count": 8,
   "id": "ff34a8c5",
   "metadata": {},
   "outputs": [
    {
     "name": "stdout",
     "output_type": "stream",
     "text": [
      "XASXARON\n"
     ]
    }
   ],
   "source": [
    "diva_oculta = \"CASCARON\"\n",
    "print(diva_oculta.replace(\"C\", \"X\"))"
   ]
  },
  {
   "cell_type": "markdown",
   "id": "03488688",
   "metadata": {},
   "source": [
    "##### find"
   ]
  },
  {
   "cell_type": "code",
   "execution_count": 9,
   "id": "a808f5e3",
   "metadata": {},
   "outputs": [
    {
     "name": "stdout",
     "output_type": "stream",
     "text": [
      "16\n"
     ]
    }
   ],
   "source": [
    "str = \"los buenos dias de la semana\"\n",
    "print(str.find(\"de\"))"
   ]
  },
  {
   "cell_type": "markdown",
   "id": "ac1a1b99",
   "metadata": {},
   "source": [
    "##### strip (elimina espacios en blanco laterales)"
   ]
  },
  {
   "cell_type": "code",
   "execution_count": 10,
   "id": "a6c13861",
   "metadata": {},
   "outputs": [
    {
     "name": "stdout",
     "output_type": "stream",
     "text": [
      "22\n",
      "17\n"
     ]
    }
   ],
   "source": [
    "str = \"  Dias de la semana   \"\n",
    "print(len(str))\n",
    "print(len(str.strip()))"
   ]
  },
  {
   "cell_type": "markdown",
   "id": "d030c263",
   "metadata": {},
   "source": [
    "##### Tabulación y salto de línea"
   ]
  },
  {
   "cell_type": "code",
   "execution_count": 11,
   "id": "9bb4ef92",
   "metadata": {},
   "outputs": [
    {
     "name": "stdout",
     "output_type": "stream",
     "text": [
      "Nombre:\tMiguelon\n",
      "Edad:\t25\n",
      "---\n",
      "Hola\n",
      "Mundo\n"
     ]
    }
   ],
   "source": [
    "print(\"Nombre:\\tMiguelon\")\n",
    "print(\"Edad:\\t25\")\n",
    "print(\"---\")\n",
    "\n",
    "print(\"Hola\\nMundo\")"
   ]
  }
 ],
 "metadata": {
  "kernelspec": {
   "display_name": ".venv (3.13.0)",
   "language": "python",
   "name": "python3"
  },
  "language_info": {
   "codemirror_mode": {
    "name": "ipython",
    "version": 3
   },
   "file_extension": ".py",
   "mimetype": "text/x-python",
   "name": "python",
   "nbconvert_exporter": "python",
   "pygments_lexer": "ipython3",
   "version": "3.13.0"
  }
 },
 "nbformat": 4,
 "nbformat_minor": 5
}
