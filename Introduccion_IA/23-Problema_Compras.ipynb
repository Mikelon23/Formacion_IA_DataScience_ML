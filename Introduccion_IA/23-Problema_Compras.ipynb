{
 "cells": [
  {
   "cell_type": "markdown",
   "id": "1278faa7",
   "metadata": {},
   "source": [
    "### PRIMERAS VENTAS\n",
    "\n",
    "- Acabas de abrir tu primera tienda y quieres analizar tus primeras 10 ventas para entender el arranque del negocio.\n",
    "- Solicitar al usuario el monto de las primeras 10 ventas\n",
    "- Calcular el promedio de estas ventas iniciales\n",
    "- Identificar cuáles ventas estuvieron por encima del promedio\n",
    "- Calcular el total recaudado en estas primeras ventas\n",
    "- Determinar cuál fue tu mejor y peor venta inicial\n"
   ]
  },
  {
   "cell_type": "code",
   "execution_count": null,
   "id": "c0390b87",
   "metadata": {},
   "outputs": [
    {
     "name": "stdout",
     "output_type": "stream",
     "text": [
      "\n",
      "--- Resumen de ventas ---\n",
      "Ventas registradas: [ 10.  20.  30.  40.  50.  60.  70.  80.  90. 100.]\n",
      "Promedio: 55.0\n",
      "Ventas por encima del promedio: [ 60.  70.  80.  90. 100.]\n",
      "Total recaudado: 550.0\n",
      "Mejor venta: 100.0\n",
      "Peor venta: 10.0\n"
     ]
    }
   ],
   "source": [
    "import numpy as np\n",
    "\n",
    "# Crear array para 10 ventas\n",
    "ventas = np.zeros(10)      #genera un array de 10 elementos con valor cero\n",
    "\n",
    "# Solicitar las ventas al usuario\n",
    "for i in range(10):\n",
    "    ventas[i] = float(input(f\"Ingrese el monto de la venta {i+1}: \")) #ventas[i] significa que \n",
    "    #estamos asignando un valor al índice i del array.\n",
    "\n",
    "# Calcular el promedio\n",
    "promedio = np.mean(ventas)\n",
    "\n",
    "# Ventas por encima del promedio\n",
    "ventas_altas = ventas[ventas > promedio] \n",
    "#1) compara los valores de venta con promedio: ventas > promedio  →  [False, True, False, True]\n",
    "#2) NumPy genera un array de True/False como filtro: ventas[ [False, True, False, True] ]\n",
    "#3) Solo conserva los elementos donde el valor booleano es True y da el array con los True ej. [ 90. 100.]\n",
    "\n",
    "# Total recaudado\n",
    "total = np.sum(ventas)\n",
    "\n",
    "# Mejor y peor venta\n",
    "mejor = np.max(ventas)\n",
    "peor = np.min(ventas)\n",
    "\n",
    "# Mostrar resultados\n",
    "print(\"\\n--- Resumen de ventas ---\")\n",
    "print(\"Ventas registradas:\", ventas)\n",
    "print(\"Promedio:\", promedio)\n",
    "print(\"Ventas por encima del promedio:\", ventas_altas)\n",
    "print(\"Total recaudado:\", total)\n",
    "print(\"Mejor venta:\", mejor)\n",
    "print(\"Peor venta:\", peor)"
   ]
  },
  {
   "cell_type": "markdown",
   "id": "7f308720",
   "metadata": {},
   "source": []
  }
 ],
 "metadata": {
  "kernelspec": {
   "display_name": "Python 3",
   "language": "python",
   "name": "python3"
  },
  "language_info": {
   "codemirror_mode": {
    "name": "ipython",
    "version": 3
   },
   "file_extension": ".py",
   "mimetype": "text/x-python",
   "name": "python",
   "nbconvert_exporter": "python",
   "pygments_lexer": "ipython3",
   "version": "3.9.10"
  }
 },
 "nbformat": 4,
 "nbformat_minor": 5
}
