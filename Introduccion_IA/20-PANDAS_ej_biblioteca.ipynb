{
 "cells": [
  {
   "cell_type": "markdown",
   "id": "f5da8c02",
   "metadata": {},
   "source": [
    "# https://pandas.pydata.org/docs/\n"
   ]
  },
  {
   "cell_type": "markdown",
   "id": "18474ceb",
   "metadata": {},
   "source": [
    "## PANDAS\n",
    "### Acceso, Descripción y Visualización de Datos\n",
    "- I) Crear y manejar tablas de datos (DataFrames)\n",
    "- II) Leer datos desde archivos\n",
    "- III) Describir Y Explorar datos\n",
    "- IV) Filtrar y seleccionar datos\n",
    "- V) **Limpiar datos**"
   ]
  },
  {
   "cell_type": "code",
   "execution_count": null,
   "id": "6903f131",
   "metadata": {},
   "outputs": [],
   "source": [
    "%pip install pandas"
   ]
  },
  {
   "cell_type": "markdown",
   "id": "f4da5083",
   "metadata": {},
   "source": [
    "### DISTINTAS FORMAS DE CREAR UN DATAFRAME (estructura de datos en forma de tabla)"
   ]
  },
  {
   "cell_type": "markdown",
   "id": "49d5de39",
   "metadata": {},
   "source": [
    "### 1) Desde un archivo CSV "
   ]
  },
  {
   "cell_type": "code",
   "execution_count": null,
   "id": "f632ff77",
   "metadata": {},
   "outputs": [],
   "source": [
    "#NO EJECUTAR\n",
    "df_prueba = pd.read_csv('archivo.csv')"
   ]
  },
  {
   "cell_type": "markdown",
   "id": "bc82106c",
   "metadata": {},
   "source": [
    "### 2) Desde una lista de listas + nombres de columnas"
   ]
  },
  {
   "cell_type": "code",
   "execution_count": null,
   "id": "716dd99e",
   "metadata": {},
   "outputs": [],
   "source": [
    "import pandas as pd\n",
    "\n",
    "data = [\n",
    "    [11, 21, 31, 41],\n",
    "    [21, 22, 32, 42],\n",
    "    [31, 23, 33, 43]\n",
    "]\n",
    "\n",
    "df = pd.DataFrame(data, columns=['a', 'b', 'c', 'd'])\n",
    "print(df)"
   ]
  },
  {
   "cell_type": "markdown",
   "id": "11973a3d",
   "metadata": {},
   "source": [
    "### 3) Desde un diccionario"
   ]
  },
  {
   "cell_type": "code",
   "execution_count": null,
   "id": "c98a5e4a",
   "metadata": {},
   "outputs": [],
   "source": [
    "import pandas as pd\n",
    "\n",
    "df=pd.DataFrame({'a':[11,21,31],'b':[21,22,23], \"c\":[31,32,33], \"d\":[41,42,43]})\n",
    "print(df)"
   ]
  },
  {
   "cell_type": "markdown",
   "id": "b05ab878",
   "metadata": {},
   "source": [
    "Las claves del diccionario ('a', 'b') se convierten automáticamente en los nombres de las columnas del DataFrame.\n",
    "\n",
    "Los valores del diccionario (listas [11,21,31] y [21,22,23]) se convierten en los datos de cada columna."
   ]
  },
  {
   "cell_type": "markdown",
   "id": "a29880be",
   "metadata": {},
   "source": [
    "### Desplegar las 3 primeras filas"
   ]
  },
  {
   "cell_type": "code",
   "execution_count": null,
   "id": "913a0280",
   "metadata": {},
   "outputs": [],
   "source": [
    "df.head(1,)"
   ]
  },
  {
   "cell_type": "markdown",
   "id": "8160583f",
   "metadata": {},
   "source": [
    "### Información de las columnas - cantidad de Non-null y Type, shape, "
   ]
  },
  {
   "cell_type": "code",
   "execution_count": null,
   "id": "458c7f18",
   "metadata": {},
   "outputs": [],
   "source": [
    "df.info()"
   ]
  },
  {
   "cell_type": "code",
   "execution_count": null,
   "id": "bea5a9b6",
   "metadata": {},
   "outputs": [],
   "source": [
    "#cantidad de nulos en el dataframe\n",
    "df.isnull().sum()"
   ]
  },
  {
   "cell_type": "code",
   "execution_count": 9,
   "id": "fb47c853",
   "metadata": {},
   "outputs": [
    {
     "data": {
      "text/plain": [
       "(3, 4)"
      ]
     },
     "execution_count": 9,
     "metadata": {},
     "output_type": "execute_result"
    }
   ],
   "source": [
    "#obtener la forma de df (num filas, num col)\n",
    "df.shape"
   ]
  },
  {
   "cell_type": "code",
   "execution_count": 10,
   "id": "fa08c7f5",
   "metadata": {},
   "outputs": [
    {
     "data": {
      "text/html": [
       "<div>\n",
       "<style scoped>\n",
       "    .dataframe tbody tr th:only-of-type {\n",
       "        vertical-align: middle;\n",
       "    }\n",
       "\n",
       "    .dataframe tbody tr th {\n",
       "        vertical-align: top;\n",
       "    }\n",
       "\n",
       "    .dataframe thead th {\n",
       "        text-align: right;\n",
       "    }\n",
       "</style>\n",
       "<table border=\"1\" class=\"dataframe\">\n",
       "  <thead>\n",
       "    <tr style=\"text-align: right;\">\n",
       "      <th></th>\n",
       "      <th>a</th>\n",
       "      <th>b</th>\n",
       "      <th>c</th>\n",
       "      <th>d</th>\n",
       "    </tr>\n",
       "  </thead>\n",
       "  <tbody>\n",
       "    <tr>\n",
       "      <th>count</th>\n",
       "      <td>3.0</td>\n",
       "      <td>3.0</td>\n",
       "      <td>3.0</td>\n",
       "      <td>3.0</td>\n",
       "    </tr>\n",
       "    <tr>\n",
       "      <th>mean</th>\n",
       "      <td>21.0</td>\n",
       "      <td>22.0</td>\n",
       "      <td>32.0</td>\n",
       "      <td>42.0</td>\n",
       "    </tr>\n",
       "    <tr>\n",
       "      <th>std</th>\n",
       "      <td>10.0</td>\n",
       "      <td>1.0</td>\n",
       "      <td>1.0</td>\n",
       "      <td>1.0</td>\n",
       "    </tr>\n",
       "    <tr>\n",
       "      <th>min</th>\n",
       "      <td>11.0</td>\n",
       "      <td>21.0</td>\n",
       "      <td>31.0</td>\n",
       "      <td>41.0</td>\n",
       "    </tr>\n",
       "    <tr>\n",
       "      <th>25%</th>\n",
       "      <td>16.0</td>\n",
       "      <td>21.5</td>\n",
       "      <td>31.5</td>\n",
       "      <td>41.5</td>\n",
       "    </tr>\n",
       "    <tr>\n",
       "      <th>50%</th>\n",
       "      <td>21.0</td>\n",
       "      <td>22.0</td>\n",
       "      <td>32.0</td>\n",
       "      <td>42.0</td>\n",
       "    </tr>\n",
       "    <tr>\n",
       "      <th>75%</th>\n",
       "      <td>26.0</td>\n",
       "      <td>22.5</td>\n",
       "      <td>32.5</td>\n",
       "      <td>42.5</td>\n",
       "    </tr>\n",
       "    <tr>\n",
       "      <th>max</th>\n",
       "      <td>31.0</td>\n",
       "      <td>23.0</td>\n",
       "      <td>33.0</td>\n",
       "      <td>43.0</td>\n",
       "    </tr>\n",
       "  </tbody>\n",
       "</table>\n",
       "</div>"
      ],
      "text/plain": [
       "          a     b     c     d\n",
       "count   3.0   3.0   3.0   3.0\n",
       "mean   21.0  22.0  32.0  42.0\n",
       "std    10.0   1.0   1.0   1.0\n",
       "min    11.0  21.0  31.0  41.0\n",
       "25%    16.0  21.5  31.5  41.5\n",
       "50%    21.0  22.0  32.0  42.0\n",
       "75%    26.0  22.5  32.5  42.5\n",
       "max    31.0  23.0  33.0  43.0"
      ]
     },
     "execution_count": 10,
     "metadata": {},
     "output_type": "execute_result"
    }
   ],
   "source": [
    "#obtener parámetros estadísticos básicos\n",
    "df.describe()"
   ]
  },
  {
   "cell_type": "markdown",
   "id": "d194f9ac",
   "metadata": {},
   "source": [
    "### Obtener la columna b"
   ]
  },
  {
   "cell_type": "code",
   "execution_count": 11,
   "id": "19de5773",
   "metadata": {},
   "outputs": [
    {
     "data": {
      "text/plain": [
       "0    21\n",
       "1    22\n",
       "2    23\n",
       "Name: b, dtype: int64"
      ]
     },
     "execution_count": 11,
     "metadata": {},
     "output_type": "execute_result"
    }
   ],
   "source": [
    "df['b']"
   ]
  },
  {
   "cell_type": "code",
   "execution_count": 12,
   "id": "061c9ad9",
   "metadata": {},
   "outputs": [
    {
     "data": {
      "text/plain": [
       "0     True\n",
       "1    False\n",
       "2    False\n",
       "Name: c, dtype: bool"
      ]
     },
     "execution_count": 12,
     "metadata": {},
     "output_type": "execute_result"
    }
   ],
   "source": [
    "#arroja BOOLEANOS\n",
    "\n",
    "df=pd.DataFrame({'a':[11,21,31],'b':[21,22,23], \"c\":[31,32,33], \"d\":[41,42,43]})\n",
    "df['c']==31  #por cada elemento de la lista a, testea si es iagual a 1"
   ]
  },
  {
   "cell_type": "markdown",
   "id": "d6e30215",
   "metadata": {},
   "source": [
    "### Acceder a elementos únicos usando .iloc"
   ]
  },
  {
   "cell_type": "code",
   "execution_count": 13,
   "id": "17cece0a",
   "metadata": {},
   "outputs": [
    {
     "name": "stdout",
     "output_type": "stream",
     "text": [
      "11\n"
     ]
    }
   ],
   "source": [
    "# Access al valor en la primer columna y primer fila\n",
    "print(df.iloc[0, 0])"
   ]
  },
  {
   "cell_type": "markdown",
   "id": "dc17ef25",
   "metadata": {},
   "source": [
    "### Acceder a rango de elementos únicos usando .iloc"
   ]
  },
  {
   "cell_type": "code",
   "execution_count": 14,
   "id": "f4822778",
   "metadata": {},
   "outputs": [
    {
     "data": {
      "text/html": [
       "<div>\n",
       "<style scoped>\n",
       "    .dataframe tbody tr th:only-of-type {\n",
       "        vertical-align: middle;\n",
       "    }\n",
       "\n",
       "    .dataframe tbody tr th {\n",
       "        vertical-align: top;\n",
       "    }\n",
       "\n",
       "    .dataframe thead th {\n",
       "        text-align: right;\n",
       "    }\n",
       "</style>\n",
       "<table border=\"1\" class=\"dataframe\">\n",
       "  <thead>\n",
       "    <tr style=\"text-align: right;\">\n",
       "      <th></th>\n",
       "      <th>a</th>\n",
       "      <th>b</th>\n",
       "      <th>c</th>\n",
       "    </tr>\n",
       "  </thead>\n",
       "  <tbody>\n",
       "    <tr>\n",
       "      <th>0</th>\n",
       "      <td>11</td>\n",
       "      <td>21</td>\n",
       "      <td>31</td>\n",
       "    </tr>\n",
       "    <tr>\n",
       "      <th>1</th>\n",
       "      <td>21</td>\n",
       "      <td>22</td>\n",
       "      <td>32</td>\n",
       "    </tr>\n",
       "  </tbody>\n",
       "</table>\n",
       "</div>"
      ],
      "text/plain": [
       "    a   b   c\n",
       "0  11  21  31\n",
       "1  21  22  32"
      ]
     },
     "execution_count": 14,
     "metadata": {},
     "output_type": "execute_result"
    }
   ],
   "source": [
    "# Slicing the dataframe\n",
    "\n",
    "df.iloc[0:2, 0:3]   #0:2 es el rango de filas y 0:3 el rango de columnas"
   ]
  },
  {
   "cell_type": "code",
   "execution_count": 15,
   "id": "b0fc0410",
   "metadata": {},
   "outputs": [
    {
     "name": "stdout",
     "output_type": "stream",
     "text": [
      "<class 'pandas.core.frame.DataFrame'>\n",
      "RangeIndex: 3 entries, 0 to 2\n",
      "Data columns (total 4 columns):\n",
      " #   Column  Non-Null Count  Dtype\n",
      "---  ------  --------------  -----\n",
      " 0   a       3 non-null      int64\n",
      " 1   b       3 non-null      int64\n",
      " 2   c       3 non-null      int64\n",
      " 3   d       3 non-null      int64\n",
      "dtypes: int64(4)\n",
      "memory usage: 224.0 bytes\n"
     ]
    }
   ],
   "source": [
    "df.info()"
   ]
  }
 ],
 "metadata": {
  "kernelspec": {
   "display_name": "Python 3",
   "language": "python",
   "name": "python3"
  },
  "language_info": {
   "codemirror_mode": {
    "name": "ipython",
    "version": 3
   },
   "file_extension": ".py",
   "mimetype": "text/x-python",
   "name": "python",
   "nbconvert_exporter": "python",
   "pygments_lexer": "ipython3",
   "version": "3.9.10"
  }
 },
 "nbformat": 4,
 "nbformat_minor": 5
}
