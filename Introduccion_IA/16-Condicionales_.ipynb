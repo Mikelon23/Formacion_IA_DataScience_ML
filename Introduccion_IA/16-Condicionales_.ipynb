{
 "cells": [
  {
   "cell_type": "markdown",
   "id": "857e33ec",
   "metadata": {},
   "source": [
    "## Estructuras de control\n",
    "### **Condicionales**(if-elif-else): ejecutan código si se cumple una condición\n",
    " \n"
   ]
  },
  {
   "cell_type": "markdown",
   "id": "7b7f8908",
   "metadata": {},
   "source": [
    "### Breve repaso de \"Operadores de comparación\"\n",
    "\n",
    "#### Las comparaciones evalúan valores y devuelven un **booleano** (True/False).\n",
    "\n",
    "Operadores disponibles:\n",
    "\n",
    "== → igual que\n",
    "\n",
    "!= → distinto de / no igual\n",
    "\n",
    "> → mayor que\n",
    "\n",
    "< → menor que\n",
    "\n",
    ">= → mayor o igual que\n",
    "\n",
    "<= → menor o igual que"
   ]
  },
  {
   "cell_type": "code",
   "execution_count": 5,
   "id": "d9f8f11c",
   "metadata": {},
   "outputs": [
    {
     "data": {
      "text/plain": [
       "False"
      ]
     },
     "execution_count": 5,
     "metadata": {},
     "output_type": "execute_result"
    }
   ],
   "source": [
    "# Condición Igual\n",
    "\n",
    "a = 5\n",
    "a == 8 # Igual - Compara la variable a con 6 y ARROJA UN BOOLEANO"
   ]
  },
  {
   "cell_type": "code",
   "execution_count": 7,
   "id": "e70519a8",
   "metadata": {},
   "outputs": [
    {
     "data": {
      "text/plain": [
       "True"
      ]
     },
     "execution_count": 7,
     "metadata": {},
     "output_type": "execute_result"
    }
   ],
   "source": [
    "# Signo de desigualdad\n",
    "\n",
    "i = 2\n",
    "i != 6"
   ]
  },
  {
   "cell_type": "code",
   "execution_count": null,
   "id": "fb03cf24",
   "metadata": {},
   "outputs": [],
   "source": [
    "# Mas grande que\n",
    "\n",
    "i = 6\n",
    "i > 5"
   ]
  },
  {
   "cell_type": "markdown",
   "id": "22c3533c",
   "metadata": {},
   "source": [
    "## Condicionales (Branching) - **if, elif, else**\n",
    "### Uso de if, elif, else para decidir qué hacer."
   ]
  },
  {
   "cell_type": "markdown",
   "id": "2572691a",
   "metadata": {},
   "source": [
    "#### - **if** → verifica la primera condición\n",
    "\n",
    "#### - **elif** → verifica otra condición si el if fue falso (puede haber cuantas se requiera)\n",
    "\n",
    "#### - **else** → se ejecuta solo si ninguna de las condiciones anteriores se cumplió. Es decir, si las condiciones anteriores no son verdaderas"
   ]
  },
  {
   "cell_type": "code",
   "execution_count": 9,
   "id": "6afd797a",
   "metadata": {},
   "outputs": [
    {
     "name": "stdout",
     "output_type": "stream",
     "text": [
      "this is  not a\n"
     ]
    }
   ],
   "source": [
    "#IF - ELSE\n",
    "x='b'\n",
    "if(x=='a'):\n",
    "    print(\"this is a\")\n",
    "else:\n",
    "    print(\"this is  not a\")"
   ]
  },
  {
   "cell_type": "code",
   "execution_count": 10,
   "id": "ccfba7b1",
   "metadata": {},
   "outputs": [
    {
     "name": "stdout",
     "output_type": "stream",
     "text": [
      "puedes entrar al recital\n",
      "move on\n"
     ]
    }
   ],
   "source": [
    "#IF - ELSE\n",
    "age = 20    # probar con distintos age = 19, 20 por ej.\n",
    "\n",
    "if age > 18:\n",
    "    print(\"puedes entrar al recital\" )\n",
    "else:\n",
    "    print(\"no puedes entrar al recital\" )\n",
    "    \n",
    "print(\"move on\")"
   ]
  },
  {
   "cell_type": "code",
   "execution_count": 13,
   "id": "22733e86",
   "metadata": {},
   "outputs": [
    {
     "name": "stdout",
     "output_type": "stream",
     "text": [
      "Es negativo\n"
     ]
    }
   ],
   "source": [
    "# ELIF se utiliza si se quiere evaluar una segunda condición\n",
    "\n",
    "numero = -5     #probar con números positivos y negativos además del cero\n",
    "\n",
    "if numero > 0:\n",
    "    print(\"Es positivo\")\n",
    "elif numero == 0:\n",
    "    print(\"Es cero\")\n",
    "else:\n",
    "    print(\"Es negativo\")"
   ]
  },
  {
   "cell_type": "code",
   "execution_count": 16,
   "id": "c0f33c5f",
   "metadata": {},
   "outputs": [
    {
     "name": "stdout",
     "output_type": "stream",
     "text": [
      "puedes entrar al recital de AC/DC\n",
      "move on\n"
     ]
    }
   ],
   "source": [
    "#ELIF\n",
    "age = 25    #probar con números más grandes y chicos que 18\n",
    "\n",
    "if age > 18:\n",
    "    print(\"puedes entrar al recital de AC/DC\")\n",
    "elif age == 18:\n",
    "    print(\"puedes entrar al recital de Pink Floyd\")\n",
    "else:\n",
    "    print(\"no puedes entrar\")\n",
    "    \n",
    "print(\"move on\")"
   ]
  },
  {
   "cell_type": "markdown",
   "id": "eb4c5c7c",
   "metadata": {},
   "source": [
    "#### ¿Se puede usar solo if y elif sin else?\n",
    "#### - Si, porque a veces no hace falta cubrir todos los casos posibles. "
   ]
  },
  {
   "cell_type": "code",
   "execution_count": null,
   "id": "3632612f",
   "metadata": {},
   "outputs": [
    {
     "name": "stdout",
     "output_type": "stream",
     "text": [
      "Excelente\n"
     ]
    }
   ],
   "source": [
    "#SIN ELSE en este caso si se pone un número menor que 7 - NO IMPRIME NADA -\n",
    "#Porque no se cubrió la condición de desaprobado\n",
    "\n",
    "nota = 10    #con números menores que 7 no imprime nada porque no se cubre ese caso, no se cubren los casos desaprobados \n",
    "\n",
    "if nota == 10:\n",
    "    print(\"Excelente\")\n",
    "elif nota >= 7:\n",
    "    print(\"Aprobado\")\n",
    "    "
   ]
  },
  {
   "cell_type": "markdown",
   "id": "57106cef",
   "metadata": {},
   "source": [
    "### Operadores Lógicos (and, or, not)\n",
    "- La instrucción **AND** solo es **True** cuando las dos condiciones son verdaderas. Ejemplo:\n",
    "\n",
    "Si tenés la tarjeta y además conocés la clave --> podés sacar dinero (True).\n",
    "\n",
    "Si te falta una de las dos --> no funciona (False)\n",
    "\n",
    "- La instrucción **OR** es **True** si una condición es verdadera, o ambas lo son.\n",
    "\n",
    "- La instrucción **NOT** devuelve el valor lógico opuesto."
   ]
  },
  {
   "cell_type": "markdown",
   "id": "b95a4095",
   "metadata": {},
   "source": [
    "#### EJEMPLO **AND**\n",
    "\n",
    "#### album_year > 1979 → 1960 > 1979 → **False**\n",
    "\n",
    "#### album_year < 1990 → 1960 < 1990 → **True**\n",
    "\n",
    "#### Con Album=1960, Como no se cumplieron las dos condiciones del IF → da False, ENTONCES pasó al print"
   ]
  },
  {
   "cell_type": "code",
   "execution_count": 20,
   "id": "b7c9f65f",
   "metadata": {},
   "outputs": [
    {
     "name": "stdout",
     "output_type": "stream",
     "text": [
      "Album year está entre 1980 y 1989\n",
      "\n",
      "Hacer algo..\n"
     ]
    }
   ],
   "source": [
    "#AND\n",
    "album_year = 1982       #probar con 1981 cumple con las dos condiciones --> TRUE, entonces ejecuta el print del IF\n",
    "\n",
    "if(album_year > 1979) and (album_year < 1990):\n",
    "    print (\"Album year está entre 1980 y 1989\")\n",
    "    \n",
    "print(\"\")\n",
    "print(\"Hacer algo..\")"
   ]
  },
  {
   "cell_type": "markdown",
   "id": "ecc6efe9",
   "metadata": {},
   "source": [
    "#### EJEMPLO **OR**\n",
    "\n",
    "#### Con Album=1960, Como SI se cumplió UNA de las dos condiciones del IF → da TRUE, ENTONCES IMPRIMIÓ el print del IF"
   ]
  },
  {
   "cell_type": "code",
   "execution_count": 21,
   "id": "4dfc6a35",
   "metadata": {},
   "outputs": [
    {
     "name": "stdout",
     "output_type": "stream",
     "text": [
      "The Album was made in the 1980's \n"
     ]
    }
   ],
   "source": [
    "#OR\n",
    "album_year = 1981\n",
    "\n",
    "if(album_year < 1980) or (album_year > 1989):\n",
    "    print (\"Album was not made in the 1980's\")\n",
    "else:\n",
    "    print(\"The Album was made in the 1980's \")"
   ]
  },
  {
   "cell_type": "markdown",
   "id": "99355e1c",
   "metadata": {},
   "source": [
    "### **NOT**\n",
    "\n",
    "#### not (True) → False, NOT aplicado sobre TRUE da FALSE\n",
    "\n",
    "#### not (False) → True, NOT aplicado sobre FALSE da TRUE "
   ]
  },
  {
   "cell_type": "markdown",
   "id": "deffc447",
   "metadata": {},
   "source": [
    "EJEMPLO **NOT**\n",
    "\n",
    "Tenemos Album = 1960\n",
    "\n",
    "Primero se evalúa lo que está dentro del paréntesis:\n",
    "Si album_year == 1983\n",
    "→ 1983 == 1960 → **False** \n",
    "Luego se aplica el not a ese resultado:\n",
    "\n",
    "NOT sobre False → da True\n",
    "\n",
    "se ejecuta el print \"Album year is not 1983"
   ]
  },
  {
   "cell_type": "code",
   "execution_count": 23,
   "id": "be81cb6f",
   "metadata": {},
   "outputs": [
    {
     "name": "stdout",
     "output_type": "stream",
     "text": [
      "Album year is 1983\n"
     ]
    }
   ],
   "source": [
    "album_year = 1983\n",
    "\n",
    "if not (album_year == 1983):\n",
    "    print(\"Album year is not 1983\")\n",
    "else:\n",
    "    print(\"Album year is 1983\")"
   ]
  }
 ],
 "metadata": {
  "kernelspec": {
   "display_name": "Python 3",
   "language": "python",
   "name": "python3"
  },
  "language_info": {
   "codemirror_mode": {
    "name": "ipython",
    "version": 3
   },
   "file_extension": ".py",
   "mimetype": "text/x-python",
   "name": "python",
   "nbconvert_exporter": "python",
   "pygments_lexer": "ipython3",
   "version": "3.9.10"
  }
 },
 "nbformat": 4,
 "nbformat_minor": 5
}
