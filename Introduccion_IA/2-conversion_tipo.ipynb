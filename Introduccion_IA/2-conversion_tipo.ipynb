{
 "cells": [
  {
   "cell_type": "markdown",
   "id": "ca6cca65",
   "metadata": {},
   "source": [
    "##### A int"
   ]
  },
  {
   "cell_type": "code",
   "execution_count": 4,
   "id": "61b061cc",
   "metadata": {},
   "outputs": [
    {
     "name": "stdout",
     "output_type": "stream",
     "text": [
      "2\n",
      "5\n"
     ]
    }
   ],
   "source": [
    "print(int(2.4))\n",
    "print(int(\"5\"))"
   ]
  },
  {
   "cell_type": "markdown",
   "id": "6fdece1f",
   "metadata": {},
   "source": [
    "##### A float"
   ]
  },
  {
   "cell_type": "code",
   "execution_count": 5,
   "id": "175ddbe0",
   "metadata": {},
   "outputs": [
    {
     "name": "stdout",
     "output_type": "stream",
     "text": [
      "2.0\n",
      "3.14\n"
     ]
    }
   ],
   "source": [
    "print(float(2))\n",
    "print(float(\"3.14\"))"
   ]
  },
  {
   "cell_type": "markdown",
   "id": "697eae5a",
   "metadata": {},
   "source": [
    "##### A str"
   ]
  },
  {
   "cell_type": "code",
   "execution_count": 11,
   "id": "a29c2486",
   "metadata": {},
   "outputs": [
    {
     "name": "stdout",
     "output_type": "stream",
     "text": [
      "100\n",
      "<class 'str'>\n"
     ]
    }
   ],
   "source": [
    "print(str(100))\n",
    "print(type(str(100)))"
   ]
  },
  {
   "cell_type": "markdown",
   "id": "704c955c",
   "metadata": {},
   "source": [
    "##### A bool"
   ]
  },
  {
   "cell_type": "code",
   "execution_count": 1,
   "id": "78d4483a",
   "metadata": {},
   "outputs": [
    {
     "name": "stdout",
     "output_type": "stream",
     "text": [
      "True\n"
     ]
    }
   ],
   "source": [
    "print(bool(1))"
   ]
  },
  {
   "cell_type": "markdown",
   "id": "3cd37ab1",
   "metadata": {},
   "source": [
    "##### Cantidad de decimales"
   ]
  },
  {
   "cell_type": "code",
   "execution_count": 6,
   "id": "0b8569e4",
   "metadata": {},
   "outputs": [
    {
     "name": "stdout",
     "output_type": "stream",
     "text": [
      "3.14\n"
     ]
    }
   ],
   "source": [
    "print(round(3.14159, 2))"
   ]
  }
 ],
 "metadata": {
  "kernelspec": {
   "display_name": "Python 3",
   "language": "python",
   "name": "python3"
  },
  "language_info": {
   "codemirror_mode": {
    "name": "ipython",
    "version": 3
   },
   "file_extension": ".py",
   "mimetype": "text/x-python",
   "name": "python",
   "nbconvert_exporter": "python",
   "pygments_lexer": "ipython3",
   "version": "3.10.12"
  }
 },
 "nbformat": 4,
 "nbformat_minor": 5
}
