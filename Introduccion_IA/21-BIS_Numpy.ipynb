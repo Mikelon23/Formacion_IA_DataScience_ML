{
 "cells": [
  {
   "cell_type": "markdown",
   "id": "bae2be53",
   "metadata": {},
   "source": [
    "## NUMPY (continuación)"
   ]
  },
  {
   "cell_type": "markdown",
   "id": "94acb71c",
   "metadata": {},
   "source": [
    "### Operacionies con **Numpy**"
   ]
  },
  {
   "cell_type": "code",
   "execution_count": null,
   "id": "2ea34551",
   "metadata": {},
   "outputs": [],
   "source": [
    "# import numpy library\n",
    "\n",
    "import numpy as np \n",
    "\n",
    "# Create a numpy array\n",
    "\n",
    "a = np.array([0, 1, 2, 3, 4, 5, 6])\n",
    "a"
   ]
  },
  {
   "cell_type": "code",
   "execution_count": null,
   "id": "195dd0c8",
   "metadata": {},
   "outputs": [],
   "source": [
    "print(type(a))  #tipo de objeto\n",
    "a.dtype         #tipo de valores de los elementos"
   ]
  },
  {
   "cell_type": "markdown",
   "id": "c0d6e274",
   "metadata": {},
   "source": [
    "#### Se puede acceder a cada elemento por el índice"
   ]
  },
  {
   "cell_type": "code",
   "execution_count": 3,
   "id": "9a35416c",
   "metadata": {},
   "outputs": [
    {
     "name": "stdout",
     "output_type": "stream",
     "text": [
      "a[0]: 0\n",
      "a[1]: 1\n",
      "a[2]: 2\n",
      "a[3]: 5\n",
      "a[4]: 6\n"
     ]
    }
   ],
   "source": [
    "print(\"a[0]:\", a[0])\n",
    "print(\"a[1]:\", a[1])\n",
    "print(\"a[2]:\", a[2])\n",
    "print(\"a[3]:\", a[5])\n",
    "print(\"a[4]:\", a[6])"
   ]
  },
  {
   "cell_type": "markdown",
   "id": "d9a7d277",
   "metadata": {},
   "source": [
    "### Asignar valor\n",
    "#### Podemos cambiar el valor de un un elemento del array. Consideremos el array c:"
   ]
  },
  {
   "cell_type": "code",
   "execution_count": 4,
   "id": "c6c5fc05",
   "metadata": {},
   "outputs": [
    {
     "name": "stdout",
     "output_type": "stream",
     "text": [
      "[20  1  2  3  4]\n",
      "[100   1   2   3   4]\n"
     ]
    }
   ],
   "source": [
    "# Create numpy array\n",
    "\n",
    "c = np.array([20, 1, 2, 3, 4])\n",
    "print(c)\n",
    "\n",
    "c[0] = 100      #modificamos el primer índice\n",
    "print(c)"
   ]
  },
  {
   "cell_type": "markdown",
   "id": "d139952a",
   "metadata": {},
   "source": [
    "### SLICING"
   ]
  },
  {
   "cell_type": "markdown",
   "id": "9f22adc9",
   "metadata": {},
   "source": [
    "#### Al igual que las listas, podemos hacer slicing en un array de NumPy. El slicing en Python significa tomar los elementos desde un índice dado hasta otro índice dado."
   ]
  },
  {
   "cell_type": "code",
   "execution_count": 5,
   "id": "e074d3e9",
   "metadata": {},
   "outputs": [
    {
     "data": {
      "text/plain": [
       "array([1, 2, 3])"
      ]
     },
     "execution_count": 5,
     "metadata": {},
     "output_type": "execute_result"
    }
   ],
   "source": [
    "# Slicing the numpy array\n",
    "\n",
    "d = c[1:4]\n",
    "d"
   ]
  },
  {
   "cell_type": "code",
   "execution_count": 6,
   "id": "c49035a3",
   "metadata": {},
   "outputs": [
    {
     "name": "stdout",
     "output_type": "stream",
     "text": [
      "[2 4 6 8]\n"
     ]
    }
   ],
   "source": [
    "arr = np.array([1, 2, 3, 4, 5, 6, 7, 8])\n",
    "print(arr[1:8:2])   #imprimimos los elementos pares (empezamos en el índice 1 (que es 2, par) hasta el elemento final (8), con un\n",
    "#salto de 2)\n"
   ]
  },
  {
   "cell_type": "markdown",
   "id": "dc5620b2",
   "metadata": {},
   "source": [
    "### Operaciones de multiplición: **HADAMARK Y PRODUCTO PUNTO**"
   ]
  },
  {
   "cell_type": "markdown",
   "id": "2a58c585",
   "metadata": {},
   "source": [
    "#### Encontrá el tipo de x usando la función type() ---> **NUMPY ARRAY**"
   ]
  },
  {
   "cell_type": "code",
   "execution_count": 7,
   "id": "4fd06641",
   "metadata": {},
   "outputs": [
    {
     "data": {
      "text/plain": [
       "numpy.ndarray"
      ]
     },
     "execution_count": 7,
     "metadata": {},
     "output_type": "execute_result"
    }
   ],
   "source": [
    "A=np.array([[11,12],[21,22],[31,32]])\n",
    "type(A)"
   ]
  },
  {
   "cell_type": "markdown",
   "id": "d9813954",
   "metadata": {},
   "source": [
    "### Encontrar la forma (**SHAPE**) del array y el número de **DIMENSIONES** del array\n",
    "#### - shape ---> te dice el tamaño en cada eje: (3, 2) --> (filas, columnas)\n",
    "\n",
    "#### - ndim ---> te dice cuántas dimensiones tiene el array: 2"
   ]
  },
  {
   "cell_type": "code",
   "execution_count": null,
   "id": "154ca127",
   "metadata": {},
   "outputs": [],
   "source": [
    "A.shape     #(cantidad de filas, cantidad de columnas)"
   ]
  },
  {
   "cell_type": "code",
   "execution_count": 8,
   "id": "fb90c087",
   "metadata": {},
   "outputs": [
    {
     "name": "stdout",
     "output_type": "stream",
     "text": [
      "2\n",
      "int64\n"
     ]
    }
   ],
   "source": [
    "print(A.ndim)  #cantidad de dimensiones del array\n",
    "print(A.dtype)  #tipo de datos que forman el array "
   ]
  },
  {
   "cell_type": "markdown",
   "id": "c935dd51",
   "metadata": {},
   "source": [
    "#### Acceder a la segunda fila completa de la matriz"
   ]
  },
  {
   "cell_type": "code",
   "execution_count": null,
   "id": "1dc513a4",
   "metadata": {},
   "outputs": [],
   "source": [
    "B=np.array([[10,20],[30,40],[50,60]])\n",
    "B[1,]       #1 es el segundo índice (0:primero,1:segundo) y corresponde a la segunda fila. Luego ,vacio) toma todas las columnas"
   ]
  },
  {
   "cell_type": "markdown",
   "id": "5ef1ce2d",
   "metadata": {},
   "source": [
    "### PRODUCTO HADAMARK (entre vectores o matrices)\n",
    "#### - El producto de **Hadamard** se puede aplicar a vectores o matrices, siempre que tengan exactamente la misma forma.\n",
    "#### - Para hacer el producto de **Hadamard** entre dos arrays (vectores o matrices): Deben tener las mismas dimensiones y la misma forma (shape)."
   ]
  },
  {
   "cell_type": "code",
   "execution_count": 9,
   "id": "3ca638a1",
   "metadata": {},
   "outputs": [
    {
     "data": {
      "text/plain": [
       "array([[ 110,  240],\n",
       "       [ 630,  880],\n",
       "       [1550, 1920]])"
      ]
     },
     "execution_count": 9,
     "metadata": {},
     "output_type": "execute_result"
    }
   ],
   "source": [
    "A=np.array([[11,12],[21,22],[31,32]])\n",
    "B=np.array([[10,20],[30,40],[50,60]])\n",
    "C = A * B\n",
    "C"
   ]
  },
  {
   "cell_type": "markdown",
   "id": "7280a442",
   "metadata": {},
   "source": [
    "### PRODUCTO PUNTO - **DOT product**\n",
    "#### - el número de columnas de A debe ser igual al número de filas de B\n"
   ]
  },
  {
   "cell_type": "code",
   "execution_count": null,
   "id": "66c781b4",
   "metadata": {},
   "outputs": [],
   "source": [
    "F = np.array([[1, 2, 3],\n",
    "              [4, 5, 6]])   # shape (2, 3)\n",
    "\n",
    "G = np.array([[7, 8],\n",
    "              [9, 10],\n",
    "              [11, 12]])    # shape (3, 2)\n",
    "np.dot(F,G)     "
   ]
  },
  {
   "cell_type": "markdown",
   "id": "3ba88eea",
   "metadata": {},
   "source": [
    "#### array([[ 58,  64],    ---------->  ([[ **58** = 1 x 7 + 2 x 9 + 3 x 11,  **64**= 1 x 8 + 2 x 10 + 3 x 12],  \n",
    "####       [139, 154]])  ----------->  [**139**= 4 x 7 + 5 x 9 + 6 x 11, **154**= 4 x 8 + 5 x 10 + 6 x 12]])"
   ]
  },
  {
   "cell_type": "code",
   "execution_count": null,
   "id": "561c70c8",
   "metadata": {},
   "outputs": [],
   "source": []
  }
 ],
 "metadata": {
  "kernelspec": {
   "display_name": "Python 3",
   "language": "python",
   "name": "python3"
  },
  "language_info": {
   "codemirror_mode": {
    "name": "ipython",
    "version": 3
   },
   "file_extension": ".py",
   "mimetype": "text/x-python",
   "name": "python",
   "nbconvert_exporter": "python",
   "pygments_lexer": "ipython3",
   "version": "3.9.10"
  }
 },
 "nbformat": 4,
 "nbformat_minor": 5
}
