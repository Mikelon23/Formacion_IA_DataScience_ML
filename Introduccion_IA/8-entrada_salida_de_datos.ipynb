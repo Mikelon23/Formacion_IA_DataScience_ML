{
 "cells": [
  {
   "cell_type": "markdown",
   "id": "c634c07d",
   "metadata": {},
   "source": [
    "##### Input"
   ]
  },
  {
   "cell_type": "code",
   "execution_count": 3,
   "id": "1914c300",
   "metadata": {},
   "outputs": [],
   "source": [
    "usuario_ingresa = input(\"Me llamo!\")"
   ]
  },
  {
   "cell_type": "markdown",
   "id": "623d7cf8",
   "metadata": {},
   "source": [
    "##### Output con función de interpolación"
   ]
  },
  {
   "cell_type": "code",
   "execution_count": null,
   "id": "0b50b007",
   "metadata": {},
   "outputs": [
    {
     "name": "stdout",
     "output_type": "stream",
     "text": [
      "Me llamo fffff\n"
     ]
    }
   ],
   "source": [
    "print(usuario_ingresa)"
   ]
  }
 ],
 "metadata": {
  "kernelspec": {
   "display_name": "Python 3",
   "language": "python",
   "name": "python3"
  },
  "language_info": {
   "codemirror_mode": {
    "name": "ipython",
    "version": 3
   },
   "file_extension": ".py",
   "mimetype": "text/x-python",
   "name": "python",
   "nbconvert_exporter": "python",
   "pygments_lexer": "ipython3",
   "version": "3.10.12"
  }
 },
 "nbformat": 4,
 "nbformat_minor": 5
}
