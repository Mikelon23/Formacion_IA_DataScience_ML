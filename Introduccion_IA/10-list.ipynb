{
 "cells": [
  {
   "cell_type": "markdown",
   "id": "59ef380b",
   "metadata": {},
   "source": [
    "##### list"
   ]
  },
  {
   "cell_type": "code",
   "execution_count": 1,
   "id": "b183f71b",
   "metadata": {},
   "outputs": [
    {
     "name": "stdout",
     "output_type": "stream",
     "text": [
      "<class 'list'>\n",
      "['manzana', 'huevos', 'leche', 'vegetales']\n"
     ]
    }
   ],
   "source": [
    "compras = [\"manzana\", \"huevos\", \"leche\", \"vegetales\"]\n",
    "print(type(compras))\n",
    "print(compras)  "
   ]
  },
  {
   "cell_type": "markdown",
   "id": "7f79e053",
   "metadata": {},
   "source": [
    "##### Accesor por índice"
   ]
  },
  {
   "cell_type": "code",
   "execution_count": 2,
   "id": "2386c3d0",
   "metadata": {},
   "outputs": [
    {
     "name": "stdout",
     "output_type": "stream",
     "text": [
      "leche\n"
     ]
    }
   ],
   "source": [
    "compras = [\"manzana\", \"huevos\", \"leche\", \"vegetales\"]\n",
    "print(compras[2])  # Tercer elemento"
   ]
  },
  {
   "cell_type": "markdown",
   "id": "2f165c5b",
   "metadata": {},
   "source": [
    "##### Mutación de elementos por índice"
   ]
  },
  {
   "cell_type": "code",
   "execution_count": 16,
   "id": "d431df9d",
   "metadata": {},
   "outputs": [
    {
     "name": "stdout",
     "output_type": "stream",
     "text": [
      "['manzana', 'huevos', 'leche', 'vegetales']\n",
      "leche\n"
     ]
    }
   ],
   "source": [
    "compras = [\"manzana\", \"huevos\", \"leche\", \"vegetales\"]\n",
    "compras[2] = \"leche\"\n",
    "print(compras)  \n",
    "print(\"leche\")"
   ]
  },
  {
   "cell_type": "markdown",
   "id": "57c4bda3",
   "metadata": {},
   "source": [
    "##### Slicing"
   ]
  },
  {
   "cell_type": "code",
   "execution_count": 17,
   "id": "b251e854",
   "metadata": {},
   "outputs": [
    {
     "name": "stdout",
     "output_type": "stream",
     "text": [
      "['huevos', 'leche']\n"
     ]
    }
   ],
   "source": [
    "compras = [\"manzana\", \"huevos\", \"leche\", \"vegetales\"]\n",
    "print(compras[1:3])  # Elementos desde el índice 1 hasta el 2 (3 no incluido)"
   ]
  },
  {
   "cell_type": "markdown",
   "id": "d93221f5",
   "metadata": {},
   "source": [
    "##### Reverse vía slicing"
   ]
  },
  {
   "cell_type": "code",
   "execution_count": 18,
   "id": "1c8d208d",
   "metadata": {},
   "outputs": [
    {
     "name": "stdout",
     "output_type": "stream",
     "text": [
      "['vegetales', 'leche', 'huevos', 'manzana']\n"
     ]
    }
   ],
   "source": [
    "compras = [\"manzana\", \"huevos\", \"leche\", \"vegetales\"]\n",
    "print(compras[::-1])"
   ]
  }
 ],
 "metadata": {
  "kernelspec": {
   "display_name": ".venv (3.13.0)",
   "language": "python",
   "name": "python3"
  },
  "language_info": {
   "codemirror_mode": {
    "name": "ipython",
    "version": 3
   },
   "file_extension": ".py",
   "mimetype": "text/x-python",
   "name": "python",
   "nbconvert_exporter": "python",
   "pygments_lexer": "ipython3",
   "version": "3.13.0"
  }
 },
 "nbformat": 4,
 "nbformat_minor": 5
}
