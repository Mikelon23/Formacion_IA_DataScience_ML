{
 "cells": [
  {
   "cell_type": "markdown",
   "id": "017a126c",
   "metadata": {},
   "source": [
    "##### Tupla"
   ]
  },
  {
   "cell_type": "code",
   "execution_count": 1,
   "id": "fd33b295",
   "metadata": {},
   "outputs": [
    {
     "name": "stdout",
     "output_type": "stream",
     "text": [
      "(3, 'hola', 3.14)\n"
     ]
    }
   ],
   "source": [
    "mi_tupla = (3, \"hola\", 3.14)\n",
    "print(mi_tupla)"
   ]
  },
  {
   "cell_type": "markdown",
   "id": "8b0a1ee1",
   "metadata": {},
   "source": [
    "##### Accesor"
   ]
  },
  {
   "cell_type": "code",
   "execution_count": 2,
   "id": "d71aff75",
   "metadata": {},
   "outputs": [
    {
     "name": "stdout",
     "output_type": "stream",
     "text": [
      "3.14\n"
     ]
    }
   ],
   "source": [
    "print(mi_tupla[2])"
   ]
  }
 ],
 "metadata": {
  "kernelspec": {
   "display_name": "Python 3",
   "language": "python",
   "name": "python3"
  },
  "language_info": {
   "codemirror_mode": {
    "name": "ipython",
    "version": 3
   },
   "file_extension": ".py",
   "mimetype": "text/x-python",
   "name": "python",
   "nbconvert_exporter": "python",
   "pygments_lexer": "ipython3",
   "version": "3.10.12"
  }
 },
 "nbformat": 4,
 "nbformat_minor": 5
}
