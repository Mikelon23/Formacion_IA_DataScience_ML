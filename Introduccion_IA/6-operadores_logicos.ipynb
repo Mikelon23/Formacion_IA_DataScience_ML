{
 "cells": [
  {
   "cell_type": "markdown",
   "id": "76785fef",
   "metadata": {},
   "source": [
    "##### And"
   ]
  },
  {
   "cell_type": "code",
   "execution_count": 1,
   "id": "2e30b930",
   "metadata": {},
   "outputs": [
    {
     "name": "stdout",
     "output_type": "stream",
     "text": [
      "True\n",
      "False\n",
      "False\n",
      "False\n",
      "\t\n",
      "True\n"
     ]
    }
   ],
   "source": [
    "print(True and True)\n",
    "print(True and False)\n",
    "print(False and True)\n",
    "print(False and False)\n",
    "print(\"\\t\")\n",
    "print(2 > 1 and 3 == 3)"
   ]
  },
  {
   "cell_type": "markdown",
   "id": "ee22e467",
   "metadata": {},
   "source": [
    "##### Or"
   ]
  },
  {
   "cell_type": "code",
   "execution_count": 2,
   "id": "b2afa027",
   "metadata": {},
   "outputs": [
    {
     "name": "stdout",
     "output_type": "stream",
     "text": [
      "True\n",
      "True\n",
      "True\n",
      "False\n",
      "\t\n",
      "True\n"
     ]
    }
   ],
   "source": [
    "print(True or True)\n",
    "print(True or False)\n",
    "print(False or True)\n",
    "print(False or False)\n",
    "print(\"\\t\")\n",
    "print(3 > 2 or 3 != 3)"
   ]
  },
  {
   "cell_type": "markdown",
   "id": "6cc06ca3",
   "metadata": {},
   "source": [
    "##### Not"
   ]
  },
  {
   "cell_type": "code",
   "execution_count": 3,
   "id": "35c3f6d8",
   "metadata": {},
   "outputs": [
    {
     "name": "stdout",
     "output_type": "stream",
     "text": [
      "False\n",
      "True\n"
     ]
    }
   ],
   "source": [
    "print(not True)\n",
    "print(not 3 == 4)"
   ]
  }
 ],
 "metadata": {
  "kernelspec": {
   "display_name": ".venv (3.13.0)",
   "language": "python",
   "name": "python3"
  },
  "language_info": {
   "codemirror_mode": {
    "name": "ipython",
    "version": 3
   },
   "file_extension": ".py",
   "mimetype": "text/x-python",
   "name": "python",
   "nbconvert_exporter": "python",
   "pygments_lexer": "ipython3",
   "version": "3.13.0"
  }
 },
 "nbformat": 4,
 "nbformat_minor": 5
}
