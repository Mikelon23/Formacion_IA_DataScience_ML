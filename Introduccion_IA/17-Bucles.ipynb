{
 "cells": [
  {
   "cell_type": "markdown",
   "id": "80259a55",
   "metadata": {},
   "source": [
    "## Estructuras de control\n",
    "### BUCLES"
   ]
  },
  {
   "cell_type": "markdown",
   "id": "94263388",
   "metadata": {},
   "source": [
    "### Bucle **FOR**\n",
    "### - El bucle for te permite ejecutar un bloque de código varias veces. Por ejemplo, lo usarías si quisieras imprimir cada elemento de una lista.\n",
    "### - El bucle for se usa cuando querés repetir una acción por cada elemento de algo, como una lista, un texto o un rango de números.\n"
   ]
  },
  {
   "cell_type": "code",
   "execution_count": 6,
   "id": "8021f860",
   "metadata": {},
   "outputs": [
    {
     "name": "stdout",
     "output_type": "stream",
     "text": [
      "1\n",
      "34\n",
      "5\n"
     ]
    }
   ],
   "source": [
    "### Bucles FOR\n",
    "A=[1,34,5]\n",
    "for i in A:\n",
    "    print(i)"
   ]
  },
  {
   "cell_type": "code",
   "execution_count": 7,
   "id": "f08482c0",
   "metadata": {},
   "outputs": [
    {
     "name": "stdout",
     "output_type": "stream",
     "text": [
      "1982\n",
      "1980\n",
      "1973\n"
     ]
    }
   ],
   "source": [
    "#Bucle For, usando un rango\n",
    "dates = [1982,1980,1973]\n",
    "N = len(dates)\n",
    "\n",
    "for i in range(N):\n",
    "    print(dates[i])   "
   ]
  },
  {
   "cell_type": "code",
   "execution_count": 8,
   "id": "1a67a141",
   "metadata": {},
   "outputs": [
    {
     "name": "stdout",
     "output_type": "stream",
     "text": [
      "1982\n",
      "1980\n",
      "1973\n"
     ]
    }
   ],
   "source": [
    "for year in dates:  #year funciona como el índice i\n",
    "    print(year)   "
   ]
  },
  {
   "cell_type": "markdown",
   "id": "2969544e",
   "metadata": {},
   "source": [
    "### Bucle **While** \n",
    "### El bucle while existe como una herramienta para la ejecución repetida basada en una condición. El bloque de código seguirá ejecutándose hasta que la condición lógica dada devuelva un valor booleano False."
   ]
  },
  {
   "cell_type": "code",
   "execution_count": null,
   "id": "37e6ab67",
   "metadata": {},
   "outputs": [
    {
     "name": "stdout",
     "output_type": "stream",
     "text": [
      "1\n",
      "2\n",
      "3\n",
      "4\n",
      "5\n"
     ]
    }
   ],
   "source": [
    "# Bucle while\n",
    "x=6\n",
    "y=1     #Y arranca en 1\n",
    "while(y != x):  #mientras que y sea distinto a x es TRUE e imprime y. \n",
    "                #Cuando alcanza y=6 es false y sale del bucle  while\n",
    "    print(y)\n",
    "    y=y+1       #si cumple la condición imprime y, y luego le suma 1"
   ]
  },
  {
   "cell_type": "code",
   "execution_count": 10,
   "id": "92118450",
   "metadata": {},
   "outputs": [
    {
     "name": "stdout",
     "output_type": "stream",
     "text": [
      "1982\n",
      "1980\n",
      "tomó  2 repeticiones para salir del bucle o loop.\n"
     ]
    }
   ],
   "source": [
    "# While Loop Example\n",
    "\n",
    "dates = [1982, 1980, 1973, 2000]\n",
    "\n",
    "i = 0           # comienza por i=0\n",
    "year = dates[0] # con i=0, toma el primer elemento de la lista (1982) y lo asigna a la variable year\n",
    "\n",
    "while(year != 1973):    \n",
    "    print(year)         #mientras que year sea distinto a 1973 imprime el valor de la posicion i \n",
    "    i = i + 1           #asina a i el número siuiente\n",
    "    year = dates[i]     #actualiza year con el elemento siguiente de la lista\n",
    "    \n",
    "\n",
    "print(\"tomó \", i ,\"repeticiones para salir del bucle o loop.\")     #si la condición del while es FALSE imprime este strin con la variable i interpolada  "
   ]
  },
  {
   "cell_type": "code",
   "execution_count": 11,
   "id": "e1101ae0",
   "metadata": {},
   "outputs": [
    {
     "name": "stdout",
     "output_type": "stream",
     "text": [
      "10 aprobado\n",
      "9.5 aprobado\n",
      "10 aprobado\n",
      "8 aprobado\n",
      "7.5 aprobado\n",
      "False, me voy del bucle\n"
     ]
    }
   ],
   "source": [
    "#mientras que el score es mayor que 6 imprimo aprobado, sino me voy del bucle  \n",
    "Rating_Lista_Albumes = [10, 9.5, 10, 8, 7.5, 5, 10, 10]\n",
    "i = 0\n",
    "score = Rating_Lista_Albumes[0]\n",
    "\n",
    "while score >= 6:\n",
    "    print(score, \"aprobado\")\n",
    "    i = i + 1\n",
    "    score = Rating_Lista_Albumes[i]\n",
    "\n",
    "print(\"False, me voy del bucle\")"
   ]
  }
 ],
 "metadata": {
  "kernelspec": {
   "display_name": "Python 3",
   "language": "python",
   "name": "python3"
  },
  "language_info": {
   "codemirror_mode": {
    "name": "ipython",
    "version": 3
   },
   "file_extension": ".py",
   "mimetype": "text/x-python",
   "name": "python",
   "nbconvert_exporter": "python",
   "pygments_lexer": "ipython3",
   "version": "3.9.10"
  }
 },
 "nbformat": 4,
 "nbformat_minor": 5
}
