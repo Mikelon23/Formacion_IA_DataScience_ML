{
 "cells": [
  {
   "cell_type": "markdown",
   "id": "196c8497",
   "metadata": {},
   "source": [
    "# FUNCIONES\n",
    "\n",
    "### Es un bloque de código reutilizable que realiza una tarea específica, evitan repetir código\n",
    "### Se puede pensar como una “máquina” que:\n",
    "\n",
    "#### - Puede recibir datos.\n",
    "\n",
    "#### - Hace algo con ellos.\n",
    "\n",
    "#### - Devuelve un resultado."
   ]
  },
  {
   "cell_type": "markdown",
   "id": "54032a91",
   "metadata": {},
   "source": [
    "---------"
   ]
  },
  {
   "cell_type": "markdown",
   "id": "261fec89",
   "metadata": {},
   "source": [
    "### **Sintaxis de funciones en Python**\n",
    "\n",
    "#### ✅ Definir una función\n",
    "\n",
    "```python\n",
    "def nombre_funcion(parametros): # definir la función: def (p. reservada), usando un nombre y entrando un parámetro\n",
    "    # código\n",
    "    return resultado  # opcional\n"
   ]
  },
  {
   "cell_type": "code",
   "execution_count": 4,
   "id": "717eccd2",
   "metadata": {},
   "outputs": [
    {
     "name": "stdout",
     "output_type": "stream",
     "text": [
      "Hola juan\n"
     ]
    }
   ],
   "source": [
    "# Definir la función\n",
    "def saludar(nombre):\n",
    "    mensaje = \"Hola \" + nombre\n",
    "    return mensaje  # opcional, pero útil\n",
    "\n",
    "# LLAMAR A LA FUNCIÓN\n",
    "resultado = saludar(\"juan\")  # saludar(\"Ana\") es la **Llamada a la función** pero definimos resultado para imprimir\n",
    "print(resultado)"
   ]
  },
  {
   "cell_type": "markdown",
   "id": "1fba789b",
   "metadata": {},
   "source": [
    "### Función simple. Ejemplo:"
   ]
  },
  {
   "cell_type": "code",
   "execution_count": 6,
   "id": "424c9d6f",
   "metadata": {},
   "outputs": [
    {
     "name": "stdout",
     "output_type": "stream",
     "text": [
      "11001\n"
     ]
    }
   ],
   "source": [
    "# Ejemplo 1: uso de una variable global dentro de una función\n",
    "\n",
    "a = 1  # variable global\n",
    "\n",
    "def add(b):      # la función recibe un parámetro b\n",
    "    return a + b # usa la variable global 'a' y el parámetro b\n",
    "\n",
    "c = add(11000)  # llamamos a la función con el valor 10\n",
    "print(c)     # resultado: 11"
   ]
  },
  {
   "cell_type": "markdown",
   "id": "809e527d",
   "metadata": {},
   "source": [
    "### Función con múltiples argumentos. Ejemplo "
   ]
  },
  {
   "cell_type": "code",
   "execution_count": 8,
   "id": "25ae19d6",
   "metadata": {},
   "outputs": [
    {
     "name": "stdout",
     "output_type": "stream",
     "text": [
      "15\n"
     ]
    }
   ],
   "source": [
    "# Ejemplo 3: función que acepta varios valores con *x\n",
    "\n",
    "def f(*x):      # *x guarda todos los argumentos en una tupla\n",
    "    return sum(x)  # sum() suma todos los elementos de x\n",
    "\n",
    "c = f(5, 5, 5)  # llamamos a la función con varios números\n",
    "print(c)        # resultado: 12"
   ]
  },
  {
   "cell_type": "markdown",
   "id": "4f0a1a2c",
   "metadata": {},
   "source": [
    "### Funciones de Conversión, Matemáticas y Colecciones"
   ]
  },
  {
   "cell_type": "code",
   "execution_count": 9,
   "id": "db0cf497",
   "metadata": {},
   "outputs": [
    {
     "name": "stdout",
     "output_type": "stream",
     "text": [
      "5\n",
      "3.14\n",
      "5\n",
      "4\n",
      "4\n",
      "range(0, 5)\n",
      "[0, 1, 2, 3, 4]\n"
     ]
    }
   ],
   "source": [
    "#Conversión\n",
    "print(int(\"5\"))\n",
    "print(float(\"3.14\")) \n",
    "\n",
    "#Matemáticas\n",
    "print(abs(-5))\n",
    "print(round(3.7))\n",
    "\n",
    "#Colecciones\n",
    "print(len(\"Hola\")) \n",
    "print(range(5))     #muestra el rango, no la lista\n",
    "print(list(range(5))) #convertimos el rango a una lista"
   ]
  }
 ],
 "metadata": {
  "kernelspec": {
   "display_name": "Python 3",
   "language": "python",
   "name": "python3"
  },
  "language_info": {
   "codemirror_mode": {
    "name": "ipython",
    "version": 3
   },
   "file_extension": ".py",
   "mimetype": "text/x-python",
   "name": "python",
   "nbconvert_exporter": "python",
   "pygments_lexer": "ipython3",
   "version": "3.9.10"
  }
 },
 "nbformat": 4,
 "nbformat_minor": 5
}
