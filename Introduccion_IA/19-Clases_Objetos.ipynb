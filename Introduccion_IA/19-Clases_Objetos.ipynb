{
 "cells": [
  {
   "cell_type": "markdown",
   "id": "9668a064",
   "metadata": {},
   "source": [
    "## CLASES - OBJETOS\n",
    "\n",
    "### Clase (Class)\n",
    "\n",
    "Es un molde o plano para crear objetos.\n",
    "\n",
    "Define atributos (propiedades) y métodos (se pueden pensar como funciones) que tendrán los objetos creados a partir de ella.\n",
    "\n",
    "### Objeto (object) ó Instancia\n",
    "\n",
    "Un objeto es una instancia (o copia concreta) de una clase.\n",
    "Tiene datos propios (atributos) y comportamientos (métodos).\n",
    "\n",
    "Cuando usás una clase para crear algo específico, eso es un objeto.\n",
    "\n"
   ]
  },
  {
   "cell_type": "code",
   "execution_count": 4,
   "id": "5292ce71",
   "metadata": {},
   "outputs": [],
   "source": [
    "class Car(object):  #creamos la clase auto\n",
    "    def __init__(self,marca,model,color):        #def_init_() es un método de python \n",
    "        self.marca=marca;         # self.make = make --> guarda la marca del auto en el objeto\n",
    "        self.model=model;        # self.model = make --> guarda el modelo del auto en el objeto\n",
    "        self.color=color;\n",
    "        self.owner_number=0     #inicializa que el auto no ha tenido dueños todavía\n",
    "    \n",
    "    def car_info(self):         #Es un método que muestra la información del auto.\n",
    "        print(\"make: \",self.marca)   #Usa self para acceder a los atributos de ese objeto en particular.\n",
    "        print(\"model:\", self.model)\n",
    "        print(\"color:\",self.color)\n",
    "        print(\"number of owners:\",self.owner_number)\n",
    "    \n",
    "    def sell(self):             #def sell es un método que muestra la cantidad de ventas (dueños)\n",
    "        self.owner_number=self.owner_number+1"
   ]
  },
  {
   "cell_type": "markdown",
   "id": "0e64a310",
   "metadata": {},
   "source": [
    "### def__init__ es el método constructor.\n",
    "\n",
    "#### - Se llama automáticamente cuando cxreamos el nuevo objeto.\n",
    "\n",
    "#### - Sirve para inicializar atributos del objeto.\n",
    "\n",
    "#### Ejemplo: self.model → atributo del objeto (por ejemplo Corolla), que almacena un dato o valor (en este caso un string) crea una propiedad o atributo dentro del objeto (ej. volkswagen_2).\n",
    "--------\n",
    "### def car_info(self):\n",
    "\n",
    "#### Es un método que muestra la información del auto. Usa self para acceder a los atributos de ese objeto en particular. Cada objeto tiene su propia make, model, etc., gracias a self.\n",
    "--------\n",
    "### Método que simula vender el auto\n",
    "def sell(self):\n",
    "\n",
    "    self.owner_number = self.owner_number + 1\n"
   ]
  },
  {
   "cell_type": "code",
   "execution_count": 5,
   "id": "fad8c16b",
   "metadata": {},
   "outputs": [
    {
     "name": "stdout",
     "output_type": "stream",
     "text": [
      "make:  Toyota\n",
      "model: Corolla\n",
      "color: Rojo\n",
      "number of owners: 0\n"
     ]
    }
   ],
   "source": [
    "mi_auto = Car(\"Toyota\", \"Corolla\", \"Rojo\")\n",
    "mi_auto.car_info()"
   ]
  },
  {
   "cell_type": "code",
   "execution_count": 8,
   "id": "50daead4",
   "metadata": {},
   "outputs": [
    {
     "name": "stdout",
     "output_type": "stream",
     "text": [
      "make:  Toyota\n",
      "model: Corolla\n",
      "color: Rojo\n",
      "number of owners: 3\n"
     ]
    }
   ],
   "source": [
    "#CADA VEZ QUE LLAME A LA FUNCION SE VA A SUMAR UNA VENTA\n",
    "\n",
    "mi_auto.sell()  # se vende el auto, un nuevo dueño\n",
    "mi_auto.car_info()"
   ]
  }
 ],
 "metadata": {
  "kernelspec": {
   "display_name": "Python 3",
   "language": "python",
   "name": "python3"
  },
  "language_info": {
   "codemirror_mode": {
    "name": "ipython",
    "version": 3
   },
   "file_extension": ".py",
   "mimetype": "text/x-python",
   "name": "python",
   "nbconvert_exporter": "python",
   "pygments_lexer": "ipython3",
   "version": "3.9.10"
  }
 },
 "nbformat": 4,
 "nbformat_minor": 5
}
