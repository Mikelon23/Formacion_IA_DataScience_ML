{
 "cells": [
  {
   "cell_type": "code",
   "execution_count": 2,
   "id": "3976dd17",
   "metadata": {},
   "outputs": [
    {
     "name": "stderr",
     "output_type": "stream",
     "text": [
      "\n",
      "[notice] A new release of pip is available: 24.2 -> 25.2\n",
      "[notice] To update, run: python.exe -m pip install --upgrade pip\n"
     ]
    },
    {
     "name": "stdout",
     "output_type": "stream",
     "text": [
      "Collecting numpy\n",
      "  Using cached numpy-2.3.3-cp313-cp313-win_amd64.whl.metadata (60 kB)\n",
      "Using cached numpy-2.3.3-cp313-cp313-win_amd64.whl (12.8 MB)\n",
      "Installing collected packages: numpy\n",
      "Successfully installed numpy-2.3.3\n",
      "Note: you may need to restart the kernel to use updated packages.\n",
      "\n",
      "--- Análisis de las primeras 10 ventas ---\n",
      "Promedio de ventas: 27.70\n",
      "Ventas por encima del promedio: [43. 34. 43. 34. 32.]\n",
      "Total recaudado: 277.00\n",
      "Mejor venta: 43.00\n",
      "Peor venta: 1.00\n"
     ]
    }
   ],
   "source": [
    "%pip install numpy\n",
    "import numpy as np\n",
    "\n",
    "# Lista para almacenar las ventas\n",
    "ventas = []\n",
    "\n",
    "# Solicitar al usuario las 10 primeras ventas\n",
    "for i in range(1, 11):\n",
    "    while True:\n",
    "        try:\n",
    "            monto = float(input(f\"Ingrese el monto de la venta #{i}: \"))\n",
    "            if monto < 0:\n",
    "                print(\"El monto no puede ser negativo. Intenta de nuevo.\")\n",
    "                continue\n",
    "            ventas.append(monto)\n",
    "            break\n",
    "        except ValueError:\n",
    "            print(\"Entrada inválida. Por favor ingresa un número.\")\n",
    "\n",
    "# Convertir la lista a un array de NumPy\n",
    "ventas_array = np.array(ventas)\n",
    "\n",
    "# Calcular el promedio\n",
    "promedio = ventas_array.mean()\n",
    "\n",
    "# Identificar ventas por encima del promedio\n",
    "ventas_sobre_promedio = ventas_array[ventas_array > promedio]\n",
    "\n",
    "# Calcular total recaudado\n",
    "total_recaudado = ventas_array.sum()\n",
    "\n",
    "# Mejor y peor venta\n",
    "mejor_venta = ventas_array.max()\n",
    "peor_venta = ventas_array.min()\n",
    "\n",
    "# Mostrar resultados\n",
    "print(\"\\n--- Análisis de las primeras 10 ventas ---\")\n",
    "print(f\"Promedio de ventas: {promedio:.2f}\")\n",
    "print(f\"Ventas por encima del promedio: {ventas_sobre_promedio}\")\n",
    "print(f\"Total recaudado: {total_recaudado:.2f}\")\n",
    "print(f\"Mejor venta: {mejor_venta:.2f}\")\n",
    "print(f\"Peor venta: {peor_venta:.2f}\")\n"
   ]
  }
 ],
 "metadata": {
  "kernelspec": {
   "display_name": ".venv (3.13.0)",
   "language": "python",
   "name": "python3"
  },
  "language_info": {
   "codemirror_mode": {
    "name": "ipython",
    "version": 3
   },
   "file_extension": ".py",
   "mimetype": "text/x-python",
   "name": "python",
   "nbconvert_exporter": "python",
   "pygments_lexer": "ipython3",
   "version": "3.13.0"
  }
 },
 "nbformat": 4,
 "nbformat_minor": 5
}
