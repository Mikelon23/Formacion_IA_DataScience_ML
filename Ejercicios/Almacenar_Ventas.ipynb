{
 "cells": [
  {
   "cell_type": "code",
   "execution_count": null,
   "id": "3976dd17",
   "metadata": {},
   "outputs": [],
   "source": [
    "import numpy as np\n",
    "\n",
    "# Lista para almacenar las ventas\n",
    "ventas = []\n",
    "\n",
    "# Solicitar al usuario las 10 primeras ventas\n",
    "for i in range(1, 11):\n",
    "    while True:\n",
    "        try:\n",
    "            monto = float(input(f\"Ingrese el monto de la venta #{i}: \"))\n",
    "            if monto < 0:\n",
    "                print(\"El monto no puede ser negativo. Intenta de nuevo.\")\n",
    "                continue\n",
    "            ventas.append(monto)\n",
    "            break\n",
    "        except ValueError:\n",
    "            print(\"Entrada inválida. Por favor ingresa un número.\")\n",
    "\n",
    "# Convertir la lista a un array de NumPy\n",
    "ventas_array = np.array(ventas)\n",
    "\n",
    "# Calcular el promedio\n",
    "promedio = ventas_array.mean()\n",
    "\n",
    "# Identificar ventas por encima del promedio\n",
    "ventas_sobre_promedio = ventas_array[ventas_array > promedio]\n",
    "\n",
    "# Calcular total recaudado\n",
    "total_recaudado = ventas_array.sum()\n",
    "\n",
    "# Mejor y peor venta\n",
    "mejor_venta = ventas_array.max()\n",
    "peor_venta = ventas_array.min()\n",
    "\n",
    "# Mostrar resultados\n",
    "print(\"\\n--- Análisis de las primeras 10 ventas ---\")\n",
    "print(f\"Promedio de ventas: {promedio:.2f}\")\n",
    "print(f\"Ventas por encima del promedio: {ventas_sobre_promedio}\")\n",
    "print(f\"Total recaudado: {total_recaudado:.2f}\")\n",
    "print(f\"Mejor venta: {mejor_venta:.2f}\")\n",
    "print(f\"Peor venta: {peor_venta:.2f}\")\n"
   ]
  }
 ],
 "metadata": {
  "language_info": {
   "name": "python"
  }
 },
 "nbformat": 4,
 "nbformat_minor": 5
}
